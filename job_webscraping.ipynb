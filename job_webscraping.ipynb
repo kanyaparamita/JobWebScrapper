{
 "cells": [
  {
   "cell_type": "markdown",
   "metadata": {
    "id": "h3XmzHGbWsXm"
   },
   "source": [
    "# Web Scraping Job Vacancies"
   ]
  },
  {
   "cell_type": "markdown",
   "metadata": {
    "id": "wsjG57T0WvGe"
   },
   "source": [
    "## Introduction\n",
    "\n",
    "In this project, we built a web scraper to extract job listings from a popular job search platform. We extracted job titles, companies, locations, job descriptions, and other relevant information. Currently, this code is only tailored to scrape jobs from LinkedIn website.\n",
    "\n",
    "Here are the main steps that were taken in this project:\n",
    "\n",
    "1. Setup our development environment\n",
    "2. Understand the basics of web scraping\n",
    "3. Analyze the website structure of our job search platform\n",
    "4. Write the Python code to extract job data from our job search platform\n",
    "5. Save the data to a CSV file\n",
    "6. Test our web scraper and refine our code as needed\n",
    "\n",
    "## Prerequisites\n",
    "\n",
    "Before starting this project, we already have some **basic knowledge of Python programming and HTML structure**. In addition, the **following Python packages** is needed to run the code:\n",
    "\n",
    "- selenium\n",
    "- requests\n",
    "- BeautifulSoup\n",
    "- mtranslate\n",
    "- langdetect\n",
    "- pandas\n",
    "- csv\n",
    "\n",
    "We choosed Google Chrome feature of Selenium, so we also also need a **ChromeDriver executable** to run the code. To get the ChromeDriver executable, we need to download it from the official [ChromeDriver website](https://sites.google.com/chromium.org/driver/). \n",
    "\n",
    "Some of these packages may or may not have been installed in your local computer environment, however if you'd like to install additional packages that are not included in this environment or are working off platform you can install additional packages using `!pip install packagename` within a notebook cell such as:\n",
    "\n",
    "- `!pip install selenium`\n",
    "- `!pip install requests`\n",
    "- `!pip install beautifulsoup4`\n",
    "\n",
    "We also need an **url of LinkedIn public job search result web page** specificied [this webpage](https://www.linkedin.com/jobs/search?position=1&pageNum=0) in which you can also add any filter to it (i.e. [link](https://www.linkedin.com/jobs/search?keywords=Docent&location=Amsterdam%2C%20North%20Holland%2C%20Netherlands&geoId=102011674&trk=public_jobs_jobs-search-bar_search-submit&position=1&pageNum=0) for Teachers in Amsterdam). With this public job search feature, you don't have to sign in to any LinkedIn account.\n",
    "\n",
    "Last but not least, we analyzed the web page structure to get the **specific HTML elements and its attributes** that contain the information we want to extract from the web page."
   ]
  },
  {
   "cell_type": "markdown",
   "metadata": {},
   "source": [
    "## Code"
   ]
  },
  {
   "cell_type": "markdown",
   "metadata": {},
   "source": [
    "The logical flow of the code is this:\n",
    "1. Scrape all the LinkedIn job links from the list of jobs in the Linkedin public job search result web page\n",
    "2. For each LinkedIn job link, scrape all the job details from the job web page, clean and format the data, structurize it into field and value format\n",
    "3. Save the collected and structurized data into an external CSV file\n",
    "\n",
    "These are the technical steps that we did in the code:\n",
    "1. Import required libraries\n",
    "2. Define helper functions\n",
    "3. Scrape the web page (run through the logical flow)\n",
    "4. Export collected data into CSV\n",
    "\n",
    "<em>Note:</em> For debugging purposes, some print command are kept"
   ]
  },
  {
   "cell_type": "markdown",
   "metadata": {
    "id": "T-EovsyAW4sA"
   },
   "source": [
    "### Step 1: Import Required Libraries"
   ]
  },
  {
   "cell_type": "code",
   "execution_count": 1,
   "metadata": {
    "id": "vlc13OZrWpPY"
   },
   "outputs": [],
   "source": [
    "from selenium import webdriver\n",
    "from selenium.webdriver.common.by import By\n",
    "from selenium.webdriver.common.keys import Keys\n",
    "from selenium.webdriver.support.ui import WebDriverWait\n",
    "from selenium.webdriver.support import expected_conditions as EC\n",
    "\n",
    "from bs4 import BeautifulSoup\n",
    "\n",
    "from mtranslate import translate\n",
    "from langdetect import detect\n",
    "\n",
    "import pandas as pd\n",
    "import requests\n",
    "import time\n",
    "import re"
   ]
  },
  {
   "cell_type": "markdown",
   "metadata": {},
   "source": [
    "### Step 2: Define Helper Functions"
   ]
  },
  {
   "cell_type": "markdown",
   "metadata": {},
   "source": [
    "We need two helper functions:\n",
    "1. Formatting LinkedIn job descriptions and translating it into English based on the detected language\n",
    "2. Get job details from each LinkedIn job links and structurize it into a Dataframe"
   ]
  },
  {
   "cell_type": "code",
   "execution_count": 2,
   "metadata": {
    "id": "iQ9ja9v1alRX"
   },
   "outputs": [],
   "source": [
    "def translate_job_description_text(text):\n",
    "    # Remove \"Show more\" and \"Show less\" from the text\n",
    "    text = re.sub(r\"(Show more|Show less)\", \"\", text)\n",
    "\n",
    "    # Remove unused new lines around the text\n",
    "    text = text.strip()\n",
    "\n",
    "    # Check if the text is not in English\n",
    "    if detect(text) != 'en':\n",
    "        # If not in English, translate the text to English using mtranslate\n",
    "        translated_text = translate(text, 'en', detect(text))\n",
    "    else:\n",
    "        # If the text is already in English, keep it as it is\n",
    "        translated_text = text\n",
    "    return translated_text\n",
    "\n",
    "def get_job_details(url):\n",
    "    # Send a GET request to the URL and retrieve the HTML content\n",
    "    response = requests.get(url)\n",
    "    html_content = response.content\n",
    "    \n",
    "    # Parse the HTML content\n",
    "    soup = BeautifulSoup(html_content, 'html.parser')\n",
    "    \n",
    "    # Initialize the job_details dictionary\n",
    "    job_details = {}\n",
    "    \n",
    "    # Extract the job details from the HTML content\n",
    "    job_title = soup.find('h1', class_='top-card-layout__title').text.strip()\n",
    "    company = soup.find('span', class_='topcard__flavor').text.strip()\n",
    "    location = soup.find('span', class_='topcard__flavor topcard__flavor--bullet').text.strip()\n",
    "    posted_time_ago = soup.find('span', class_='posted-time-ago__text').text.strip()\n",
    "    job_description = soup.find('div', class_='description__text').text.strip()\n",
    "    \n",
    "    try:\n",
    "        applicants_count = soup.find('span', class_='num-applicants__caption').text.strip()\n",
    "    except AttributeError:\n",
    "        applicants_count = soup.find('figcaption', class_='num-applicants__caption').text.strip()\n",
    "    \n",
    "    job_criteria_list = soup.find('ul', class_='description__job-criteria-list')\n",
    "    criteria_items = job_criteria_list.find_all('li')\n",
    "    criteria_dict = {}\n",
    "    for item in criteria_items:\n",
    "        subheader = item.find('h3', class_='description__job-criteria-subheader').text.strip()\n",
    "        criteria_text = item.find('span', class_='description__job-criteria-text').text.strip()\n",
    "        criteria_dict[subheader] = criteria_text\n",
    "        \n",
    "    # Translate the job details to English and add the job details to the dictionary\n",
    "    job_details['Job Title'] = job_title\n",
    "    job_details['Company'] = company\n",
    "    job_details['Location'] = location\n",
    "    job_details['Posted Time Ago'] = posted_time_ago\n",
    "    job_details['Applicants Count'] = applicants_count\n",
    "    job_details['Link'] = url\n",
    "    job_details['Job Description'] = translate_job_description_text(job_description)\n",
    "    job_details.update({key: value for key, value in criteria_dict.items()})\n",
    "\n",
    "    # Return the job details dictionary\n",
    "    return job_details"
   ]
  },
  {
   "cell_type": "markdown",
   "metadata": {},
   "source": [
    "### Step 3: Scrape the Web Page"
   ]
  },
  {
   "cell_type": "markdown",
   "metadata": {},
   "source": [
    "In this part, we are implementing the logical flow explained above. For point 1 in getting the LinkedIn job links, we used Selenium because the web page need to be scrolled down and some buttons need to be clicked for the completed job list to appear. For point 2 in scraping job details from each link, we use BeautifulSoup because we only need to get some text from certain HTML elements.\n",
    "\n",
    "<em>Note</em>: LinkedIn job search result web page only display maximum of 1000 job posts and one loaded \"page\" contains 25 job posts, so we limit the iteration of scrolling or button clicks to only 40."
   ]
  },
  {
   "cell_type": "markdown",
   "metadata": {},
   "source": [
    "#### Get all the job links"
   ]
  },
  {
   "cell_type": "code",
   "execution_count": 6,
   "metadata": {
    "colab": {
     "base_uri": "https://localhost:8080/",
     "height": 353
    },
    "id": "lTqSlPdDXN3v",
    "outputId": "35bb211e-9ac4-46ad-bfd1-dac312aa8fc1"
   },
   "outputs": [
    {
     "name": "stderr",
     "output_type": "stream",
     "text": [
      "/var/folders/f7/9nt6p5v94dq118j8xf4_cbs40000gn/T/ipykernel_42683/2989348950.py:2: DeprecationWarning: executable_path has been deprecated, please pass in a Service object\n",
      "  driver = webdriver.Chrome('./chromedriver_mac64/chromedriver')\n"
     ]
    }
   ],
   "source": [
    "# Set up the WebDriver\n",
    "driver = webdriver.Chrome('./chromedriver_mac64/chromedriver')"
   ]
  },
  {
   "cell_type": "code",
   "execution_count": 7,
   "metadata": {
    "scrolled": true
   },
   "outputs": [
    {
     "name": "stdout",
     "output_type": "stream",
     "text": [
      "Scrolling..\n",
      "Viewed all jobs or reached max iteration.\n",
      "\n"
     ]
    }
   ],
   "source": [
    "# Navigate to the LinkedIn page\n",
    "# This one is a web page of English teachers (\"docent engels\" in Dutch) jobs around the area of Heenvliet, The Netherlands\n",
    "driver.get('https://www.linkedin.com/jobs/search?keywords=Docent%20Engels&location=Heenvliet%2C%20South%20Holland%2C%20Netherlands&geoId=100029650&trk=public_jobs_jobs-search-bar_search-submit&position=1&pageNum=0')\n",
    "\n",
    "viewed_all_jobs_hidden = True # Initially the \"Viewed all jobs\" text is hidden\n",
    "iteration_count = 0  # Initialize the counter\n",
    "max_iterations = 40 # Maximum number of iterations\n",
    "\n",
    "\n",
    "# Scroll down the page or click \"See more jobs\" button until the \"Viewed all jobs\" text is not hidden\n",
    "while viewed_all_jobs_hidden and iteration_count < max_iterations:\n",
    "    # Check if the \"See more jobs\" button is visible\n",
    "    see_more_button = driver.find_elements(By.XPATH, \"//button[contains(text(), 'See more jobs')]\")\n",
    "    see_more_button_visible = 'infinite-scroller__show-more-button--visible' in see_more_button[0].get_attribute('class')\n",
    "    \n",
    "    if see_more_button and not see_more_button_visible:\n",
    "        # \"See more jobs\" button is not visible then scroll to the bottom of the page\n",
    "        print(\"Scrolling..\")\n",
    "        driver.execute_script(\"window.scrollTo(0, document.body.scrollHeight);\")\n",
    "    \n",
    "    else:\n",
    "        # \"See more jobs\" button is visible then click the \"See more jobs\" button\n",
    "        print(\"See More Button visible.. clicking.\")\n",
    "        see_more_button[0].click()\n",
    "    \n",
    "    # Wait for the page to load more content\n",
    "    time.sleep(2)\n",
    "    \n",
    "    # Check if the \"Viewed all jobs\" text is still hidden\n",
    "    viewed_all_jobs = driver.find_elements(By.XPATH, \"//div[contains(@class, 'see-more-jobs__viewed-all')]\")\n",
    "    viewed_all_jobs_hidden = 'hidden' in viewed_all_jobs[0].get_attribute('class')\n",
    "    # Increment the counter\n",
    "    iteration_count += 1\n",
    "print(\"Viewed all jobs or reached max iteration.\\n\")\n",
    "\n",
    "# Get the page source\n",
    "page_source = driver.page_source\n",
    "\n",
    "# Replace \"nl.linkedin.com\" with \"www.linkedin.com\" in the page source\n",
    "page_source = page_source.replace(\"nl.linkedin.com\", \"www.linkedin.com\")\n",
    "\n",
    "# Parse the HTML content\n",
    "soup = BeautifulSoup(page_source, 'html.parser')\n",
    "\n",
    "# Find all div elements with class \"base-card\"\n",
    "div_elements = soup.find_all('div', class_='base-card')\n",
    "\n",
    "# Extract the links from the div elements using list comprehension\n",
    "links = [div.find('a')['href'].split('?refId=')[0] for div in div_elements]\n",
    "\n",
    "# Find all anchor elements with class \"base-card\"\n",
    "anchor_elements = soup.find_all('a', class_='base-card')\n",
    "\n",
    "# Extract the links from the anchor elements using list comprehension and add to the list\n",
    "links.extend(anchor['href'].split('?refId=')[0] for anchor in anchor_elements)\n",
    "\n",
    "# Close the WebDriver\n",
    "driver.quit()"
   ]
  },
  {
   "cell_type": "markdown",
   "metadata": {},
   "source": [
    "#### Collect all job details"
   ]
  },
  {
   "cell_type": "code",
   "execution_count": 12,
   "metadata": {
    "scrolled": true
   },
   "outputs": [
    {
     "name": "stdout",
     "output_type": "stream",
     "text": [
      "Done getting jobs details.\n"
     ]
    }
   ],
   "source": [
    "# Create an empty list to store the job details and erronous links\n",
    "job_details_list = []\n",
    "error_links = []\n",
    "\n",
    "# Iterate over the links and retrieve job details\n",
    "for i, link in enumerate(links, 1):\n",
    "    try:\n",
    "        job_details = get_job_details(link)\n",
    "        job_details_list.append(job_details)\n",
    "    except Exception as e:\n",
    "        print(f\"Error processing link: {link}\")\n",
    "        error_links.append(link)\n",
    "        print(f\"Error message: {str(e)}\")\n",
    "        continue\n",
    "print(\"Done getting jobs details.\")\n",
    "\n",
    "# Create a dataframe from the job details list\n",
    "df = pd.DataFrame(job_details_list)"
   ]
  },
  {
   "cell_type": "code",
   "execution_count": 7,
   "metadata": {},
   "outputs": [
    {
     "data": {
      "text/html": [
       "<div>\n",
       "<style scoped>\n",
       "    .dataframe tbody tr th:only-of-type {\n",
       "        vertical-align: middle;\n",
       "    }\n",
       "\n",
       "    .dataframe tbody tr th {\n",
       "        vertical-align: top;\n",
       "    }\n",
       "\n",
       "    .dataframe thead th {\n",
       "        text-align: right;\n",
       "    }\n",
       "</style>\n",
       "<table border=\"1\" class=\"dataframe\">\n",
       "  <thead>\n",
       "    <tr style=\"text-align: right;\">\n",
       "      <th></th>\n",
       "      <th>Job Title</th>\n",
       "      <th>Company</th>\n",
       "      <th>Location</th>\n",
       "      <th>Posted Time Ago</th>\n",
       "      <th>Applicants Count</th>\n",
       "      <th>Link</th>\n",
       "      <th>Job Description</th>\n",
       "      <th>Seniority level</th>\n",
       "      <th>Employment type</th>\n",
       "      <th>Job function</th>\n",
       "      <th>Industries</th>\n",
       "    </tr>\n",
       "  </thead>\n",
       "  <tbody>\n",
       "    <tr>\n",
       "      <th>0</th>\n",
       "      <td>Leerkracht basisschool, Amsterdam</td>\n",
       "      <td>DIT IS WIJS</td>\n",
       "      <td>Amsterdam, North Holland, Netherlands</td>\n",
       "      <td>3 days ago</td>\n",
       "      <td>Be among the first 25 applicants</td>\n",
       "      <td>https://www.linkedin.com/jobs/view/leerkracht-...</td>\n",
       "      <td>Together we will talk and I will discover your...</td>\n",
       "      <td>Entry level</td>\n",
       "      <td>Temporary</td>\n",
       "      <td>Education</td>\n",
       "      <td>Primary and Secondary Education, Higher Educat...</td>\n",
       "    </tr>\n",
       "    <tr>\n",
       "      <th>1</th>\n",
       "      <td>Leerkracht basisonderwijs, Amsterdam</td>\n",
       "      <td>DIT IS WIJS</td>\n",
       "      <td>Amsterdam, North Holland, Netherlands</td>\n",
       "      <td>1 week ago</td>\n",
       "      <td>Be among the first 25 applicants</td>\n",
       "      <td>https://www.linkedin.com/jobs/view/leerkracht-...</td>\n",
       "      <td>As a teacher, you are compassionate, supportiv...</td>\n",
       "      <td>Entry level</td>\n",
       "      <td>Temporary</td>\n",
       "      <td>Education</td>\n",
       "      <td>Primary and Secondary Education, Higher Educat...</td>\n",
       "    </tr>\n",
       "    <tr>\n",
       "      <th>2</th>\n",
       "      <td>Basisschool leerkracht, Amsterdam</td>\n",
       "      <td>DIT IS WIJS</td>\n",
       "      <td>Amsterdam, North Holland, Netherlands</td>\n",
       "      <td>3 days ago</td>\n",
       "      <td>Be among the first 25 applicants</td>\n",
       "      <td>https://www.linkedin.com/jobs/view/basisschool...</td>\n",
       "      <td>Together we are building on our mission: No mo...</td>\n",
       "      <td>Entry level</td>\n",
       "      <td>Temporary</td>\n",
       "      <td>Education</td>\n",
       "      <td>Primary and Secondary Education, Higher Educat...</td>\n",
       "    </tr>\n",
       "    <tr>\n",
       "      <th>3</th>\n",
       "      <td>Docent beeldende vorming/tekenen ca. 0,6 fte</td>\n",
       "      <td>Voortgezet Onderwijs van Amsterdam</td>\n",
       "      <td>Amsterdam, North Holland, Netherlands</td>\n",
       "      <td>1 week ago</td>\n",
       "      <td>Be among the first 25 applicants</td>\n",
       "      <td>https://www.linkedin.com/jobs/view/docent-beel...</td>\n",
       "      <td>The Hyperion Lyceum is looking for a visual ar...</td>\n",
       "      <td>Not Applicable</td>\n",
       "      <td>Full-time</td>\n",
       "      <td>Education and Training</td>\n",
       "      <td>Education</td>\n",
       "    </tr>\n",
       "    <tr>\n",
       "      <th>4</th>\n",
       "      <td>Docent Spaans</td>\n",
       "      <td>Voortgezet Onderwijs van Amsterdam</td>\n",
       "      <td>Amsterdam, North Holland, Netherlands</td>\n",
       "      <td>1 week ago</td>\n",
       "      <td>Be among the first 25 applicants</td>\n",
       "      <td>https://www.linkedin.com/jobs/view/docent-spaa...</td>\n",
       "      <td>We are looking for a Spanish teacher for the n...</td>\n",
       "      <td>Not Applicable</td>\n",
       "      <td>Full-time</td>\n",
       "      <td>Education and Training</td>\n",
       "      <td>Education</td>\n",
       "    </tr>\n",
       "    <tr>\n",
       "      <th>...</th>\n",
       "      <td>...</td>\n",
       "      <td>...</td>\n",
       "      <td>...</td>\n",
       "      <td>...</td>\n",
       "      <td>...</td>\n",
       "      <td>...</td>\n",
       "      <td>...</td>\n",
       "      <td>...</td>\n",
       "      <td>...</td>\n",
       "      <td>...</td>\n",
       "      <td>...</td>\n",
       "    </tr>\n",
       "    <tr>\n",
       "      <th>313</th>\n",
       "      <td>Groepsleerkracht groep 1/2 en groep 4, Amsterdam</td>\n",
       "      <td>Derec</td>\n",
       "      <td>Amsterdam, North Holland, Netherlands</td>\n",
       "      <td>4 days ago</td>\n",
       "      <td>Be among the first 25 applicants</td>\n",
       "      <td>https://www.linkedin.com/jobs/view/groepsleerk...</td>\n",
       "      <td>For this modern school I am looking for teache...</td>\n",
       "      <td>Entry level</td>\n",
       "      <td>Full-time</td>\n",
       "      <td>Education</td>\n",
       "      <td>Primary and Secondary Education, Higher Educat...</td>\n",
       "    </tr>\n",
       "    <tr>\n",
       "      <th>314</th>\n",
       "      <td>Groepsleerkracht groep 4 2023- 2024 zomer tot ...</td>\n",
       "      <td>Derec</td>\n",
       "      <td>Amsterdam, North Holland, Netherlands</td>\n",
       "      <td>1 week ago</td>\n",
       "      <td>Be among the first 25 applicants</td>\n",
       "      <td>https://www.linkedin.com/jobs/view/groepsleerk...</td>\n",
       "      <td>The vacancy is for a minimum of three days a w...</td>\n",
       "      <td>Entry level</td>\n",
       "      <td>Full-time</td>\n",
       "      <td>Education</td>\n",
       "      <td>Primary and Secondary Education, Higher Educat...</td>\n",
       "    </tr>\n",
       "    <tr>\n",
       "      <th>315</th>\n",
       "      <td>Groepsleerkracht 2023-2024, Amsterdam</td>\n",
       "      <td>Derec</td>\n",
       "      <td>Amsterdam, North Holland, Netherlands</td>\n",
       "      <td>3 days ago</td>\n",
       "      <td>Be among the first 25 applicants</td>\n",
       "      <td>https://www.linkedin.com/jobs/view/groepsleerk...</td>\n",
       "      <td>This contemporary public primary school consis...</td>\n",
       "      <td>Entry level</td>\n",
       "      <td>Full-time</td>\n",
       "      <td>Education</td>\n",
       "      <td>Primary and Secondary Education, Higher Educat...</td>\n",
       "    </tr>\n",
       "    <tr>\n",
       "      <th>316</th>\n",
       "      <td>Tweedegraads docent Nederlands gezocht voor he...</td>\n",
       "      <td>Derec</td>\n",
       "      <td>Amsterdam, North Holland, Netherlands</td>\n",
       "      <td>3 days ago</td>\n",
       "      <td>Be among the first 25 applicants</td>\n",
       "      <td>https://www.linkedin.com/jobs/view/tweedegraad...</td>\n",
       "      <td>As a teacher of Dutch you will be part of a cl...</td>\n",
       "      <td>Entry level</td>\n",
       "      <td>Full-time</td>\n",
       "      <td>Education</td>\n",
       "      <td>Primary and Secondary Education, Higher Educat...</td>\n",
       "    </tr>\n",
       "    <tr>\n",
       "      <th>317</th>\n",
       "      <td>Groepsleerkracht 2023- 2024 SO cluster 4, Amst...</td>\n",
       "      <td>Derec</td>\n",
       "      <td>Amsterdam, North Holland, Netherlands</td>\n",
       "      <td>3 days ago</td>\n",
       "      <td>Be among the first 25 applicants</td>\n",
       "      <td>https://www.linkedin.com/jobs/view/groepsleerk...</td>\n",
       "      <td>Together we can determine the group where you ...</td>\n",
       "      <td>Entry level</td>\n",
       "      <td>Full-time</td>\n",
       "      <td>Education</td>\n",
       "      <td>Primary and Secondary Education, Higher Educat...</td>\n",
       "    </tr>\n",
       "  </tbody>\n",
       "</table>\n",
       "<p>318 rows × 11 columns</p>\n",
       "</div>"
      ],
      "text/plain": [
       "                                             Job Title  \\\n",
       "0                    Leerkracht basisschool, Amsterdam   \n",
       "1                 Leerkracht basisonderwijs, Amsterdam   \n",
       "2                    Basisschool leerkracht, Amsterdam   \n",
       "3         Docent beeldende vorming/tekenen ca. 0,6 fte   \n",
       "4                                        Docent Spaans   \n",
       "..                                                 ...   \n",
       "313   Groepsleerkracht groep 1/2 en groep 4, Amsterdam   \n",
       "314  Groepsleerkracht groep 4 2023- 2024 zomer tot ...   \n",
       "315              Groepsleerkracht 2023-2024, Amsterdam   \n",
       "316  Tweedegraads docent Nederlands gezocht voor he...   \n",
       "317  Groepsleerkracht 2023- 2024 SO cluster 4, Amst...   \n",
       "\n",
       "                                Company  \\\n",
       "0                           DIT IS WIJS   \n",
       "1                           DIT IS WIJS   \n",
       "2                           DIT IS WIJS   \n",
       "3    Voortgezet Onderwijs van Amsterdam   \n",
       "4    Voortgezet Onderwijs van Amsterdam   \n",
       "..                                  ...   \n",
       "313                               Derec   \n",
       "314                               Derec   \n",
       "315                               Derec   \n",
       "316                               Derec   \n",
       "317                               Derec   \n",
       "\n",
       "                                  Location Posted Time Ago  \\\n",
       "0    Amsterdam, North Holland, Netherlands      3 days ago   \n",
       "1    Amsterdam, North Holland, Netherlands      1 week ago   \n",
       "2    Amsterdam, North Holland, Netherlands      3 days ago   \n",
       "3    Amsterdam, North Holland, Netherlands      1 week ago   \n",
       "4    Amsterdam, North Holland, Netherlands      1 week ago   \n",
       "..                                     ...             ...   \n",
       "313  Amsterdam, North Holland, Netherlands      4 days ago   \n",
       "314  Amsterdam, North Holland, Netherlands      1 week ago   \n",
       "315  Amsterdam, North Holland, Netherlands      3 days ago   \n",
       "316  Amsterdam, North Holland, Netherlands      3 days ago   \n",
       "317  Amsterdam, North Holland, Netherlands      3 days ago   \n",
       "\n",
       "                     Applicants Count  \\\n",
       "0    Be among the first 25 applicants   \n",
       "1    Be among the first 25 applicants   \n",
       "2    Be among the first 25 applicants   \n",
       "3    Be among the first 25 applicants   \n",
       "4    Be among the first 25 applicants   \n",
       "..                                ...   \n",
       "313  Be among the first 25 applicants   \n",
       "314  Be among the first 25 applicants   \n",
       "315  Be among the first 25 applicants   \n",
       "316  Be among the first 25 applicants   \n",
       "317  Be among the first 25 applicants   \n",
       "\n",
       "                                                  Link  \\\n",
       "0    https://www.linkedin.com/jobs/view/leerkracht-...   \n",
       "1    https://www.linkedin.com/jobs/view/leerkracht-...   \n",
       "2    https://www.linkedin.com/jobs/view/basisschool...   \n",
       "3    https://www.linkedin.com/jobs/view/docent-beel...   \n",
       "4    https://www.linkedin.com/jobs/view/docent-spaa...   \n",
       "..                                                 ...   \n",
       "313  https://www.linkedin.com/jobs/view/groepsleerk...   \n",
       "314  https://www.linkedin.com/jobs/view/groepsleerk...   \n",
       "315  https://www.linkedin.com/jobs/view/groepsleerk...   \n",
       "316  https://www.linkedin.com/jobs/view/tweedegraad...   \n",
       "317  https://www.linkedin.com/jobs/view/groepsleerk...   \n",
       "\n",
       "                                       Job Description Seniority level  \\\n",
       "0    Together we will talk and I will discover your...     Entry level   \n",
       "1    As a teacher, you are compassionate, supportiv...     Entry level   \n",
       "2    Together we are building on our mission: No mo...     Entry level   \n",
       "3    The Hyperion Lyceum is looking for a visual ar...  Not Applicable   \n",
       "4    We are looking for a Spanish teacher for the n...  Not Applicable   \n",
       "..                                                 ...             ...   \n",
       "313  For this modern school I am looking for teache...     Entry level   \n",
       "314  The vacancy is for a minimum of three days a w...     Entry level   \n",
       "315  This contemporary public primary school consis...     Entry level   \n",
       "316  As a teacher of Dutch you will be part of a cl...     Entry level   \n",
       "317  Together we can determine the group where you ...     Entry level   \n",
       "\n",
       "    Employment type            Job function  \\\n",
       "0         Temporary               Education   \n",
       "1         Temporary               Education   \n",
       "2         Temporary               Education   \n",
       "3         Full-time  Education and Training   \n",
       "4         Full-time  Education and Training   \n",
       "..              ...                     ...   \n",
       "313       Full-time               Education   \n",
       "314       Full-time               Education   \n",
       "315       Full-time               Education   \n",
       "316       Full-time               Education   \n",
       "317       Full-time               Education   \n",
       "\n",
       "                                            Industries  \n",
       "0    Primary and Secondary Education, Higher Educat...  \n",
       "1    Primary and Secondary Education, Higher Educat...  \n",
       "2    Primary and Secondary Education, Higher Educat...  \n",
       "3                                            Education  \n",
       "4                                            Education  \n",
       "..                                                 ...  \n",
       "313  Primary and Secondary Education, Higher Educat...  \n",
       "314  Primary and Secondary Education, Higher Educat...  \n",
       "315  Primary and Secondary Education, Higher Educat...  \n",
       "316  Primary and Secondary Education, Higher Educat...  \n",
       "317  Primary and Secondary Education, Higher Educat...  \n",
       "\n",
       "[318 rows x 11 columns]"
      ]
     },
     "execution_count": 7,
     "metadata": {},
     "output_type": "execute_result"
    }
   ],
   "source": [
    "# Check the dataframe\n",
    "df"
   ]
  },
  {
   "cell_type": "markdown",
   "metadata": {},
   "source": [
    "### Step 4: Export Collected Data into CSV"
   ]
  },
  {
   "cell_type": "markdown",
   "metadata": {},
   "source": [
    "In the code below, you can change the CSV file name according to your need. You can then open the CSV file and use the data for further analysis or for other needs."
   ]
  },
  {
   "cell_type": "code",
   "execution_count": 8,
   "metadata": {},
   "outputs": [],
   "source": [
    "df.to_csv('teachers_amsterdam_job_details.csv', index=False)"
   ]
  },
  {
   "cell_type": "markdown",
   "metadata": {},
   "source": [
    "### Appendix: Random Tryout Codes"
   ]
  },
  {
   "cell_type": "markdown",
   "metadata": {},
   "source": [
    "Here are some chuck of codes that we used to test out some functionalities or logic. We kept this codes displayed as a reminder that it is a good practice for a developer to test out some things separated from the main code to make sure things work they way we want to and to clear out assumptions. Also it's a reminder that programming is a constant learning journey :)"
   ]
  },
  {
   "cell_type": "markdown",
   "metadata": {},
   "source": [
    "Testing out beautifulsoup find function"
   ]
  },
  {
   "cell_type": "code",
   "execution_count": 112,
   "metadata": {},
   "outputs": [
    {
     "data": {
      "text/plain": [
       "'Nederland Vacature Groep'"
      ]
     },
     "execution_count": 112,
     "metadata": {},
     "output_type": "execute_result"
    }
   ],
   "source": [
    "url = 'https://www.linkedin.com/jobs/view/docent-engels-basisonderwijs-0-2-fte-0-16-uur-at-nederland-vacature-3628419355'\n",
    "\n",
    "# Send a GET request to the URL and retrieve the HTML content\n",
    "response = requests.get(url)\n",
    "html_content = response.content\n",
    "\n",
    "# Parse the HTML content\n",
    "soup = BeautifulSoup(html_content, 'html.parser')\n",
    "\n",
    "soup.find('span', class_='topcard__flavor').text.strip()"
   ]
  },
  {
   "cell_type": "markdown",
   "metadata": {},
   "source": [
    "Try getting job details from one URL"
   ]
  },
  {
   "cell_type": "code",
   "execution_count": 181,
   "metadata": {
    "scrolled": true
   },
   "outputs": [
    {
     "name": "stdout",
     "output_type": "stream",
     "text": [
      "nl\n",
      "Job Title: Data Engineer\n",
      "Company: The Greenery\n",
      "Location: Barendrecht, South Holland, Netherlands\n",
      "Posted Time Ago: 2 weeks ago\n",
      "Applicants Count: 33 applicants\n",
      "Link: https://www.linkedin.com/jobs/view/data-engineer-at-the-greenery-3595100903\n",
      "Job Description: About us The Greenery supplies a complete and fresh range of fruit and vegetables all year round to international supermarket chains, wholesalers, caterers and the processing industry. Every day, together with our growers, we strive to allow consumers to enjoy fruit and vegetables carefree. The Greenery has been voted number 1 in the primary sector and one of the market leaders in fresh logistics services. Through continuous (product) innovation and focus on the digitization of our business processes, we are able to offer high-quality services. We do this, for example, for renowned supermarket chains such as Jumbo and PLUS, but also for a large number of wholesale customers. With this strategy, we are better placed than anyone else to make fresh products accessible to every consumer in a sustainable manner. Your roleAs a Data Engineer, you are responsible for making data sets available for the creation of relevant control information. You carry out the technical impact analysis based on the functional requirements; You design data flow and model according to our architecture standards; extraction of internal and external source data;You apply logic to the data with Databricks and Python;You develop data pipelines for Machine Learning;You support the data scientist in training machine learning models;You are an important point of contact for data issues for end users; You monitor and ensure continuous optimization of the (Azure) Data platform architecture; You invest in your own development by following relevant (online) training. Team & Organization You are part of the Analytics Team. Together with your colleagues, you ensure that end users have relevant information for managing business processes. The team works according to DevOps Agile towards the desired result. By outsourcing day-to-day management, we as an Analytics Team can optimally focus on further development. You report to the Analytics Lead. What do you bring with youHBO/Academic work and thinking level;At least 5 years of relevant work experience; * Tooling: including Microsoft Azure Data Factory, Data Bricks and Synapse * Concepts: including Data Warehousing and Dimensional Modeling You are analytically strong and result-oriented; You have experience with SQL scripting, Python and Microsoft Power BI; Experience with configuring Azure (DevOps) release pipelines is an advantage;Experience with Agile/scrum is an advantage;A business administration background is an advantage;Knowledge of SAP processes (SD, CoPa, FiCo, Pur) is an advantage. What do we offer? You will work in an enterprising, challenging and complex organization. Collegiality, mutual trust and the no-nonsense mentality are of paramount importance to us. You can also count on: A gross annual salary between € 54,000 and € 76,000 (including holiday pay and based on a 38-hour working week); In addition to a basic pension scheme, a supplementary pension scheme; You are eligible for a bonus scheme with a fully variable bonus percentage of 15%; Travel allowance; A dynamic working atmosphere; buy nice products with a tax advantage;Possibility to work partly at home; Interesting career prospects; Every 4 weeks a fresh fruit and vegetable package.\n",
      "Seniority level: Mid-Senior level\n",
      "Employment type: Full-time\n",
      "Job function: Information Technology and Analyst\n",
      "Industries: Transportation, Logistics, Supply Chain and Storage, Wholesale Import and Export, and Food and Beverage Manufacturing\n"
     ]
    }
   ],
   "source": [
    "# Test the function with a sample URL\n",
    "# url = 'https://www.linkedin.com/jobs/view/docent-engels-basisonderwijs-0-2-fte-0-16-uur-at-nederland-vacature-3628419355'\n",
    "# url = 'https://nl.linkedin.com/jobs/view/docent-engels-basisonderwijs-0-2-fte-rotterdam-at-dit-is-wijs-3633649514?refId=GqBRCejTBkfRh78d32r6Eg%3D%3D&trackingId=0IkmoS%2FaIROH%2BQYHO3b%2Bfw%3D%3D&position=1&pageNum=0&trk=public_jobs_jserp-result_search-card'\n",
    "url = 'https://www.linkedin.com/jobs/view/data-engineer-at-the-greenery-3595100903'\n",
    "job_details = get_job_details(url)\n",
    "\n",
    "# Print the job details\n",
    "for key, value in job_details.items():\n",
    "    print(key + ':', value)"
   ]
  },
  {
   "cell_type": "markdown",
   "metadata": {},
   "source": [
    "Try translating job description"
   ]
  },
  {
   "cell_type": "code",
   "execution_count": 116,
   "metadata": {
    "scrolled": true
   },
   "outputs": [
    {
     "name": "stdout",
     "output_type": "stream",
     "text": [
      "MYMEMORY WARNING: YOU USED ALL AVAILABLE FREE TRANSLATIONS FOR TODAY. NEXT AVAILABLE IN  21 HOURS 55 MINUTES 15 SECONDS VISIT HTTPS://MYMEMORY.TRANSLATED.NET/DOC/USAGELIMITS.PHP TO TRANSLATE MOREMYMEMORY WARNING: YOU USED ALL AVAILABLE FREE TRANSLATIONS FOR TODAY. NEXT AVAILABLE IN  21 HOURS 55 MINUTES 15 SECONDS VISIT HTTPS://MYMEMORY.TRANSLATED.NET/DOC/USAGELIMITS.PHP TO TRANSLATE MOREMYMEMORY WARNING: YOU USED ALL AVAILABLE FREE TRANSLATIONS FOR TODAY. NEXT AVAILABLE IN  21 HOURS 55 MINUTES 15 SECONDS VISIT HTTPS://MYMEMORY.TRANSLATED.NET/DOC/USAGELIMITS.PHP TO TRANSLATE MORE\n"
     ]
    }
   ],
   "source": [
    "text = \"\"\"Taken en verantwoordelijkhedenHallo! Ben jij de leuke leerkracht Engels die ik zoek?De kinderen van de groepen 6 t/m 8 maken graag kennis met de Engelse taal. Can you help them?Voor een basisschool in Rotterdam zoek ik een leerkracht Engels die graag de kinderen voorbereidt op een goede toekomst. Op deze basisschool werk je met interactieve lesmethodes die de kinderen stimuleert om iets nieuws te leren.Profiel kandidaatJe hebt een eerste- of tweedegraads bevoegdheid Engels;Je spreekt vloeiend Nederlands;Je hebt een talent voor het aanbrengen van structuur in de lessen en klassenorganisatie;Je hebt uitstekende pedagogische en didactische vaardigheden;Je hebt affiniteit met het basisonderwijs;Je wilt graag werken in regio Rotterdam.Geboden wordtNatuurlijk een marktconform salaris. Ben je zzp’er? Dan is het salaris afhankelijk van jouw kennis, kunde en ervaring;Met de auto of openbaar vervoer naar je werk? Geen probleem. Je krijgt van ons een reiskostenvergoeding van €0,21 per kilometer;Leuke collega’s waar je altijd mee kunt sparren;De mogelijkheid jezelf te ontwikkelen;Je krijgt toegang tot diverse opleidingsmogelijkheden en workshops;Een coach die er met de juiste ondersteuning en begeleiding voor zorgt dat je iedere dag met een grote glimlach naar je werk gaat.\n",
    "      \n",
    "\n",
    "        Show more\n",
    "\n",
    "        \n",
    "\n",
    "\n",
    "        Show less\n",
    "\"\"\"\n",
    "\n",
    "# Remove \"Show more\" and \"Show less\" from the text\n",
    "text = re.sub(r\"(Show more|Show less)\", \"\", text)\n",
    "\n",
    "# Remove unused new lines around the text\n",
    "text = text.strip()\n",
    "\n",
    "translator = Translator(from_lang=\"nl\", to_lang=\"en\")\n",
    "\n",
    "# Split the text into smaller chunks\n",
    "chunk_size = 500\n",
    "chunks = [text[i:i+chunk_size] for i in range(0, len(text), chunk_size)]\n",
    "\n",
    "# Translate each chunk\n",
    "translated_text = \"\"\n",
    "for chunk in chunks:\n",
    "    translated_chunk = translator.translate(chunk)\n",
    "    translated_text += translated_chunk\n",
    "\n",
    "print(translated_text)"
   ]
  },
  {
   "cell_type": "code",
   "execution_count": 122,
   "metadata": {},
   "outputs": [
    {
     "name": "stdout",
     "output_type": "stream",
     "text": [
      "Duties and ResponsibilitiesHello! Are you the nice English teacher I'm looking for? The children of groups 6 to 8 like to get acquainted with the English language. Can you help them? I am looking for an English teacher for a primary school in Rotterdam who likes to prepare the children for a good future. At this primary school you work with interactive teaching methods that stimulate the children to learn something new. Candidate profile You have a first or second level qualification in English; You speak fluent Dutch; have excellent pedagogical and didactic skills; You have an affinity with primary education; You would like to work in the Rotterdam region. Are you self-employed? Then the salary depends on your knowledge, skills and experience; Do you want to go to work by car or public transport? No problem. You will receive a travel allowance of € 0.21 per kilometer from us; Nice colleagues with whom you can always spar; The opportunity to develop yourself; You will have access to various training options and workshops; that you go to work with a big smile every day.\n"
     ]
    }
   ],
   "source": [
    "from mtranslate import translate\n",
    "\n",
    "text = \"\"\"Taken en verantwoordelijkhedenHallo! Ben jij de leuke leerkracht Engels die ik zoek?De kinderen van de groepen 6 t/m 8 maken graag kennis met de Engelse taal. Can you help them?Voor een basisschool in Rotterdam zoek ik een leerkracht Engels die graag de kinderen voorbereidt op een goede toekomst. Op deze basisschool werk je met interactieve lesmethodes die de kinderen stimuleert om iets nieuws te leren.Profiel kandidaatJe hebt een eerste- of tweedegraads bevoegdheid Engels;Je spreekt vloeiend Nederlands;Je hebt een talent voor het aanbrengen van structuur in de lessen en klassenorganisatie;Je hebt uitstekende pedagogische en didactische vaardigheden;Je hebt affiniteit met het basisonderwijs;Je wilt graag werken in regio Rotterdam.Geboden wordtNatuurlijk een marktconform salaris. Ben je zzp’er? Dan is het salaris afhankelijk van jouw kennis, kunde en ervaring;Met de auto of openbaar vervoer naar je werk? Geen probleem. Je krijgt van ons een reiskostenvergoeding van €0,21 per kilometer;Leuke collega’s waar je altijd mee kunt sparren;De mogelijkheid jezelf te ontwikkelen;Je krijgt toegang tot diverse opleidingsmogelijkheden en workshops;Een coach die er met de juiste ondersteuning en begeleiding voor zorgt dat je iedere dag met een grote glimlach naar je werk gaat.\n",
    "      \n",
    "\n",
    "        Show more\n",
    "\n",
    "        \n",
    "\n",
    "\n",
    "        Show less\n",
    "\"\"\"\n",
    "\n",
    "# Remove \"Show more\" and \"Show less\" from the text\n",
    "text = re.sub(r\"(Show more|Show less)\", \"\", text)\n",
    "\n",
    "# Remove unused new lines around the text\n",
    "text = text.strip()\n",
    "\n",
    "translated_text = translate(text, \"en\", \"nl\")\n",
    "print(translated_text)"
   ]
  },
  {
   "cell_type": "code",
   "execution_count": 145,
   "metadata": {},
   "outputs": [
    {
     "name": "stdout",
     "output_type": "stream",
     "text": [
      "fr\n",
      "Translate the text to English using mtranslate\n",
      "I love you so much\n"
     ]
    }
   ],
   "source": [
    "from mtranslate import translate\n",
    "from langdetect import detect\n",
    "\n",
    "text = \"je t'aime tellement\"\n",
    "print(detect(text))\n",
    "\n",
    "# Check if the text is not in English\n",
    "if detect(text) != 'en':\n",
    "    print(\"Translate the text to English using mtranslate\")\n",
    "    translated_text = translate(text, 'en', detect(text))\n",
    "else:\n",
    "    print(\"If the text is already in English, keep it as it is\")\n",
    "    translated_text = text\n",
    "\n",
    "print(translated_text)"
   ]
  }
 ],
 "metadata": {
  "colab": {
   "provenance": []
  },
  "kernelspec": {
   "display_name": "Python 3",
   "language": "python",
   "name": "python3"
  },
  "language_info": {
   "codemirror_mode": {
    "name": "ipython",
    "version": 3
   },
   "file_extension": ".py",
   "mimetype": "text/x-python",
   "name": "python",
   "nbconvert_exporter": "python",
   "pygments_lexer": "ipython3",
   "version": "3.11.3"
  }
 },
 "nbformat": 4,
 "nbformat_minor": 1
}
